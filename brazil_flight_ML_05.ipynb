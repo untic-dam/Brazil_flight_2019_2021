{
 "cells": [
  {
   "cell_type": "markdown",
   "metadata": {
    "heading_collapsed": true
   },
   "source": [
    "# Import Libraries"
   ]
  },
  {
   "cell_type": "code",
   "execution_count": 1,
   "metadata": {
    "hidden": true
   },
   "outputs": [],
   "source": [
    "import pandas as pd\n",
    "import numpy as np\n",
    "import matplotlib.pyplot as plt\n",
    "import datetime"
   ]
  },
  {
   "cell_type": "markdown",
   "metadata": {
    "heading_collapsed": true
   },
   "source": [
    "# Load dataset"
   ]
  },
  {
   "cell_type": "code",
   "execution_count": 2,
   "metadata": {
    "hidden": true
   },
   "outputs": [],
   "source": [
    "df_brut = pd.read_csv('data/raw_2021.csv', low_memory=False)\n",
    "airports_code_brut = pd.read_csv('data/airport-codes.csv')"
   ]
  },
  {
   "cell_type": "markdown",
   "metadata": {
    "heading_collapsed": true
   },
   "source": [
    "# Clean datasets"
   ]
  },
  {
   "cell_type": "markdown",
   "metadata": {
    "hidden": true
   },
   "source": [
    "## 0) quick view"
   ]
  },
  {
   "cell_type": "code",
   "execution_count": 3,
   "metadata": {
    "hidden": true
   },
   "outputs": [
    {
     "data": {
      "text/html": [
       "<div>\n",
       "<style scoped>\n",
       "    .dataframe tbody tr th:only-of-type {\n",
       "        vertical-align: middle;\n",
       "    }\n",
       "\n",
       "    .dataframe tbody tr th {\n",
       "        vertical-align: top;\n",
       "    }\n",
       "\n",
       "    .dataframe thead th {\n",
       "        text-align: right;\n",
       "    }\n",
       "</style>\n",
       "<table border=\"1\" class=\"dataframe\">\n",
       "  <thead>\n",
       "    <tr style=\"text-align: right;\">\n",
       "      <th></th>\n",
       "      <th>company</th>\n",
       "      <th>flight</th>\n",
       "      <th>auth_code</th>\n",
       "      <th>line_type</th>\n",
       "      <th>origin</th>\n",
       "      <th>destination</th>\n",
       "      <th>scheduled_dep</th>\n",
       "      <th>real_dep</th>\n",
       "      <th>scheduled_arr</th>\n",
       "      <th>real_arr</th>\n",
       "      <th>situation</th>\n",
       "      <th>jus_code</th>\n",
       "    </tr>\n",
       "  </thead>\n",
       "  <tbody>\n",
       "    <tr>\n",
       "      <th>0</th>\n",
       "      <td>AZU</td>\n",
       "      <td>2497</td>\n",
       "      <td>0</td>\n",
       "      <td>N</td>\n",
       "      <td>SBMO</td>\n",
       "      <td>SBRF</td>\n",
       "      <td>NaN</td>\n",
       "      <td>NaN</td>\n",
       "      <td>2019-06-07 21:50:00</td>\n",
       "      <td>2019-06-07 21:39:00</td>\n",
       "      <td>REALIZADO</td>\n",
       "      <td>NaN</td>\n",
       "    </tr>\n",
       "    <tr>\n",
       "      <th>1</th>\n",
       "      <td>AZU</td>\n",
       "      <td>2493</td>\n",
       "      <td>0</td>\n",
       "      <td>N</td>\n",
       "      <td>SBMK</td>\n",
       "      <td>SBCF</td>\n",
       "      <td>NaN</td>\n",
       "      <td>NaN</td>\n",
       "      <td>2019-06-07 20:30:00</td>\n",
       "      <td>2019-06-07 20:30:00</td>\n",
       "      <td>REALIZADO</td>\n",
       "      <td>NaN</td>\n",
       "    </tr>\n",
       "    <tr>\n",
       "      <th>2</th>\n",
       "      <td>AZU</td>\n",
       "      <td>2489</td>\n",
       "      <td>0</td>\n",
       "      <td>N</td>\n",
       "      <td>SBRF</td>\n",
       "      <td>SBGR</td>\n",
       "      <td>NaN</td>\n",
       "      <td>NaN</td>\n",
       "      <td>2019-06-07 23:35:00</td>\n",
       "      <td>2019-06-07 23:35:00</td>\n",
       "      <td>REALIZADO</td>\n",
       "      <td>NaN</td>\n",
       "    </tr>\n",
       "    <tr>\n",
       "      <th>3</th>\n",
       "      <td>AZU</td>\n",
       "      <td>2488</td>\n",
       "      <td>0</td>\n",
       "      <td>N</td>\n",
       "      <td>SBGR</td>\n",
       "      <td>SBRF</td>\n",
       "      <td>NaN</td>\n",
       "      <td>NaN</td>\n",
       "      <td>2019-06-07 08:20:00</td>\n",
       "      <td>2019-06-07 08:11:00</td>\n",
       "      <td>REALIZADO</td>\n",
       "      <td>NaN</td>\n",
       "    </tr>\n",
       "    <tr>\n",
       "      <th>4</th>\n",
       "      <td>AZU</td>\n",
       "      <td>2487</td>\n",
       "      <td>0</td>\n",
       "      <td>N</td>\n",
       "      <td>SBFL</td>\n",
       "      <td>SBKP</td>\n",
       "      <td>NaN</td>\n",
       "      <td>NaN</td>\n",
       "      <td>2019-06-07 17:45:00</td>\n",
       "      <td>2019-06-07 17:45:00</td>\n",
       "      <td>REALIZADO</td>\n",
       "      <td>NaN</td>\n",
       "    </tr>\n",
       "    <tr>\n",
       "      <th>...</th>\n",
       "      <td>...</td>\n",
       "      <td>...</td>\n",
       "      <td>...</td>\n",
       "      <td>...</td>\n",
       "      <td>...</td>\n",
       "      <td>...</td>\n",
       "      <td>...</td>\n",
       "      <td>...</td>\n",
       "      <td>...</td>\n",
       "      <td>...</td>\n",
       "      <td>...</td>\n",
       "      <td>...</td>\n",
       "    </tr>\n",
       "    <tr>\n",
       "      <th>1592596</th>\n",
       "      <td>AZU</td>\n",
       "      <td>2503</td>\n",
       "      <td>0</td>\n",
       "      <td>N</td>\n",
       "      <td>SBPL</td>\n",
       "      <td>SBKP</td>\n",
       "      <td>NaN</td>\n",
       "      <td>NaN</td>\n",
       "      <td>2019-06-07 06:35:00</td>\n",
       "      <td>2019-06-07 06:31:00</td>\n",
       "      <td>REALIZADO</td>\n",
       "      <td>NaN</td>\n",
       "    </tr>\n",
       "    <tr>\n",
       "      <th>1592597</th>\n",
       "      <td>AZU</td>\n",
       "      <td>2502</td>\n",
       "      <td>0</td>\n",
       "      <td>N</td>\n",
       "      <td>SBRF</td>\n",
       "      <td>SBSG</td>\n",
       "      <td>NaN</td>\n",
       "      <td>NaN</td>\n",
       "      <td>2019-06-07 15:25:00</td>\n",
       "      <td>2019-06-07 15:05:00</td>\n",
       "      <td>REALIZADO</td>\n",
       "      <td>HD</td>\n",
       "    </tr>\n",
       "    <tr>\n",
       "      <th>1592598</th>\n",
       "      <td>AZU</td>\n",
       "      <td>2500</td>\n",
       "      <td>0</td>\n",
       "      <td>N</td>\n",
       "      <td>SBKP</td>\n",
       "      <td>SBPL</td>\n",
       "      <td>NaN</td>\n",
       "      <td>NaN</td>\n",
       "      <td>2019-06-08 02:35:00</td>\n",
       "      <td>2019-06-08 02:18:00</td>\n",
       "      <td>REALIZADO</td>\n",
       "      <td>HD</td>\n",
       "    </tr>\n",
       "    <tr>\n",
       "      <th>1592599</th>\n",
       "      <td>AZU</td>\n",
       "      <td>2499</td>\n",
       "      <td>0</td>\n",
       "      <td>N</td>\n",
       "      <td>SBJU</td>\n",
       "      <td>SBKP</td>\n",
       "      <td>NaN</td>\n",
       "      <td>NaN</td>\n",
       "      <td>2019-06-07 05:25:00</td>\n",
       "      <td>2019-06-07 05:09:00</td>\n",
       "      <td>REALIZADO</td>\n",
       "      <td>HD</td>\n",
       "    </tr>\n",
       "    <tr>\n",
       "      <th>1592600</th>\n",
       "      <td>AZU</td>\n",
       "      <td>2498</td>\n",
       "      <td>0</td>\n",
       "      <td>N</td>\n",
       "      <td>SBKP</td>\n",
       "      <td>SBJU</td>\n",
       "      <td>NaN</td>\n",
       "      <td>NaN</td>\n",
       "      <td>2019-06-08 01:30:00</td>\n",
       "      <td>2019-06-08 01:26:00</td>\n",
       "      <td>REALIZADO</td>\n",
       "      <td>NaN</td>\n",
       "    </tr>\n",
       "  </tbody>\n",
       "</table>\n",
       "<p>1592601 rows × 12 columns</p>\n",
       "</div>"
      ],
      "text/plain": [
       "        company flight auth_code line_type origin destination scheduled_dep  \\\n",
       "0           AZU   2497         0         N   SBMO        SBRF           NaN   \n",
       "1           AZU   2493         0         N   SBMK        SBCF           NaN   \n",
       "2           AZU   2489         0         N   SBRF        SBGR           NaN   \n",
       "3           AZU   2488         0         N   SBGR        SBRF           NaN   \n",
       "4           AZU   2487         0         N   SBFL        SBKP           NaN   \n",
       "...         ...    ...       ...       ...    ...         ...           ...   \n",
       "1592596     AZU   2503         0         N   SBPL        SBKP           NaN   \n",
       "1592597     AZU   2502         0         N   SBRF        SBSG           NaN   \n",
       "1592598     AZU   2500         0         N   SBKP        SBPL           NaN   \n",
       "1592599     AZU   2499         0         N   SBJU        SBKP           NaN   \n",
       "1592600     AZU   2498         0         N   SBKP        SBJU           NaN   \n",
       "\n",
       "        real_dep        scheduled_arr             real_arr  situation jus_code  \n",
       "0            NaN  2019-06-07 21:50:00  2019-06-07 21:39:00  REALIZADO      NaN  \n",
       "1            NaN  2019-06-07 20:30:00  2019-06-07 20:30:00  REALIZADO      NaN  \n",
       "2            NaN  2019-06-07 23:35:00  2019-06-07 23:35:00  REALIZADO      NaN  \n",
       "3            NaN  2019-06-07 08:20:00  2019-06-07 08:11:00  REALIZADO      NaN  \n",
       "4            NaN  2019-06-07 17:45:00  2019-06-07 17:45:00  REALIZADO      NaN  \n",
       "...          ...                  ...                  ...        ...      ...  \n",
       "1592596      NaN  2019-06-07 06:35:00  2019-06-07 06:31:00  REALIZADO      NaN  \n",
       "1592597      NaN  2019-06-07 15:25:00  2019-06-07 15:05:00  REALIZADO       HD  \n",
       "1592598      NaN  2019-06-08 02:35:00  2019-06-08 02:18:00  REALIZADO       HD  \n",
       "1592599      NaN  2019-06-07 05:25:00  2019-06-07 05:09:00  REALIZADO       HD  \n",
       "1592600      NaN  2019-06-08 01:30:00  2019-06-08 01:26:00  REALIZADO      NaN  \n",
       "\n",
       "[1592601 rows x 12 columns]"
      ]
     },
     "execution_count": 3,
     "metadata": {},
     "output_type": "execute_result"
    }
   ],
   "source": [
    "df_brut"
   ]
  },
  {
   "cell_type": "markdown",
   "metadata": {
    "hidden": true
   },
   "source": [
    "## 1) Drop useless columns"
   ]
  },
  {
   "cell_type": "code",
   "execution_count": 4,
   "metadata": {
    "hidden": true
   },
   "outputs": [],
   "source": [
    "non_necessary_df = ['jus_code', 'scheduled_dep', 'real_dep']"
   ]
  },
  {
   "cell_type": "code",
   "execution_count": 5,
   "metadata": {
    "hidden": true
   },
   "outputs": [],
   "source": [
    "temp_df = df_brut.copy()\n",
    "temp_df = temp_df.drop(labels=non_necessary_df, axis=1)"
   ]
  },
  {
   "cell_type": "markdown",
   "metadata": {
    "hidden": true
   },
   "source": [
    "## 2) define columns type"
   ]
  },
  {
   "cell_type": "markdown",
   "metadata": {
    "hidden": true
   },
   "source": [
    "### a) Datetime col"
   ]
  },
  {
   "cell_type": "code",
   "execution_count": 6,
   "metadata": {
    "hidden": true,
    "scrolled": true
   },
   "outputs": [
    {
     "data": {
      "text/html": [
       "<div>\n",
       "<style scoped>\n",
       "    .dataframe tbody tr th:only-of-type {\n",
       "        vertical-align: middle;\n",
       "    }\n",
       "\n",
       "    .dataframe tbody tr th {\n",
       "        vertical-align: top;\n",
       "    }\n",
       "\n",
       "    .dataframe thead th {\n",
       "        text-align: right;\n",
       "    }\n",
       "</style>\n",
       "<table border=\"1\" class=\"dataframe\">\n",
       "  <thead>\n",
       "    <tr style=\"text-align: right;\">\n",
       "      <th></th>\n",
       "      <th>company</th>\n",
       "      <th>flight</th>\n",
       "      <th>auth_code</th>\n",
       "      <th>line_type</th>\n",
       "      <th>origin</th>\n",
       "      <th>destination</th>\n",
       "      <th>scheduled_arr</th>\n",
       "      <th>real_arr</th>\n",
       "      <th>situation</th>\n",
       "    </tr>\n",
       "  </thead>\n",
       "  <tbody>\n",
       "    <tr>\n",
       "      <th>0</th>\n",
       "      <td>AZU</td>\n",
       "      <td>2497</td>\n",
       "      <td>0</td>\n",
       "      <td>N</td>\n",
       "      <td>SBMO</td>\n",
       "      <td>SBRF</td>\n",
       "      <td>2019-06-07 21:50:00</td>\n",
       "      <td>2019-06-07 21:39:00</td>\n",
       "      <td>REALIZADO</td>\n",
       "    </tr>\n",
       "    <tr>\n",
       "      <th>1</th>\n",
       "      <td>AZU</td>\n",
       "      <td>2493</td>\n",
       "      <td>0</td>\n",
       "      <td>N</td>\n",
       "      <td>SBMK</td>\n",
       "      <td>SBCF</td>\n",
       "      <td>2019-06-07 20:30:00</td>\n",
       "      <td>2019-06-07 20:30:00</td>\n",
       "      <td>REALIZADO</td>\n",
       "    </tr>\n",
       "  </tbody>\n",
       "</table>\n",
       "</div>"
      ],
      "text/plain": [
       "  company flight auth_code line_type origin destination       scheduled_arr  \\\n",
       "0     AZU   2497         0         N   SBMO        SBRF 2019-06-07 21:50:00   \n",
       "1     AZU   2493         0         N   SBMK        SBCF 2019-06-07 20:30:00   \n",
       "\n",
       "             real_arr  situation  \n",
       "0 2019-06-07 21:39:00  REALIZADO  \n",
       "1 2019-06-07 20:30:00  REALIZADO  "
      ]
     },
     "execution_count": 6,
     "metadata": {},
     "output_type": "execute_result"
    }
   ],
   "source": [
    "date_cols = ['scheduled_arr', 'real_arr']\n",
    "\n",
    "for d in date_cols:\n",
    "    temp_df[d] = pd.to_datetime(temp_df[d])\n",
    "    \n",
    "temp_df.head(2)"
   ]
  },
  {
   "cell_type": "markdown",
   "metadata": {
    "hidden": true
   },
   "source": [
    "## 3) Delete 'non realizado' flight"
   ]
  },
  {
   "cell_type": "code",
   "execution_count": 7,
   "metadata": {
    "hidden": true
   },
   "outputs": [],
   "source": [
    "def n_rows_deleted(df_init, df_final):\n",
    "    n_rows = abs(df_init.shape[0] - df_final.shape[0])\n",
    "    print(\"{} rows have been deleted\".format(n_rows))"
   ]
  },
  {
   "cell_type": "code",
   "execution_count": 8,
   "metadata": {
    "hidden": true
   },
   "outputs": [
    {
     "name": "stdout",
     "output_type": "stream",
     "text": [
      "38309 rows have been deleted\n"
     ]
    }
   ],
   "source": [
    "temp_df = temp_df.loc[temp_df['situation'] == 'REALIZADO']\n",
    "n_rows_deleted(df_brut, temp_df)"
   ]
  },
  {
   "cell_type": "markdown",
   "metadata": {
    "hidden": true
   },
   "source": [
    "## 4) Delete outrange date "
   ]
  },
  {
   "cell_type": "code",
   "execution_count": 9,
   "metadata": {
    "hidden": true
   },
   "outputs": [],
   "source": [
    "def looking_for_dt(df):\n",
    "    tmin = df['real_arr'].min()\n",
    "    tmax = df['real_arr'].max()\n",
    "    print(\"t min = {} \\nt max = {}\".format(tmin, tmax))\n",
    "\n",
    "    dt = tmax - tmin\n",
    "    print(\"dt = {}\".format(dt))\n",
    "    \n",
    "    return tmin, tmax, dt"
   ]
  },
  {
   "cell_type": "code",
   "execution_count": 10,
   "metadata": {
    "hidden": true
   },
   "outputs": [
    {
     "name": "stdout",
     "output_type": "stream",
     "text": [
      "t min = 2017-10-21 09:35:00 \n",
      "t max = 2202-02-18 13:59:00\n",
      "dt = 67324 days 04:24:00\n"
     ]
    },
    {
     "data": {
      "text/plain": [
       "(Timestamp('2017-10-21 09:35:00'),\n",
       " Timestamp('2202-02-18 13:59:00'),\n",
       " Timedelta('67324 days 04:24:00'))"
      ]
     },
     "execution_count": 10,
     "metadata": {},
     "output_type": "execute_result"
    }
   ],
   "source": [
    "looking_for_dt(temp_df)"
   ]
  },
  {
   "cell_type": "code",
   "execution_count": 11,
   "metadata": {
    "hidden": true
   },
   "outputs": [],
   "source": [
    "split_date = datetime.datetime(2021,8,1)\n",
    "temp_df = temp_df.loc[temp_df['real_arr'] < split_date]"
   ]
  },
  {
   "cell_type": "code",
   "execution_count": 12,
   "metadata": {
    "hidden": true
   },
   "outputs": [
    {
     "name": "stdout",
     "output_type": "stream",
     "text": [
      "t min = 2017-10-21 09:35:00 \n",
      "t max = 2021-07-01 20:26:00\n",
      "dt = 1349 days 10:51:00\n"
     ]
    },
    {
     "data": {
      "text/plain": [
       "(Timestamp('2017-10-21 09:35:00'),\n",
       " Timestamp('2021-07-01 20:26:00'),\n",
       " Timedelta('1349 days 10:51:00'))"
      ]
     },
     "execution_count": 12,
     "metadata": {},
     "output_type": "execute_result"
    }
   ],
   "source": [
    "looking_for_dt(temp_df)"
   ]
  },
  {
   "cell_type": "code",
   "execution_count": 13,
   "metadata": {
    "hidden": true
   },
   "outputs": [
    {
     "name": "stdout",
     "output_type": "stream",
     "text": [
      "46382 rows have been deleted\n"
     ]
    }
   ],
   "source": [
    "n_rows_deleted(df_brut, temp_df)"
   ]
  },
  {
   "cell_type": "markdown",
   "metadata": {
    "hidden": true
   },
   "source": [
    "## 5) Create new columns"
   ]
  },
  {
   "cell_type": "markdown",
   "metadata": {
    "hidden": true
   },
   "source": [
    "### a) Month"
   ]
  },
  {
   "cell_type": "code",
   "execution_count": 14,
   "metadata": {
    "hidden": true
   },
   "outputs": [
    {
     "data": {
      "text/html": [
       "<div>\n",
       "<style scoped>\n",
       "    .dataframe tbody tr th:only-of-type {\n",
       "        vertical-align: middle;\n",
       "    }\n",
       "\n",
       "    .dataframe tbody tr th {\n",
       "        vertical-align: top;\n",
       "    }\n",
       "\n",
       "    .dataframe thead th {\n",
       "        text-align: right;\n",
       "    }\n",
       "</style>\n",
       "<table border=\"1\" class=\"dataframe\">\n",
       "  <thead>\n",
       "    <tr style=\"text-align: right;\">\n",
       "      <th></th>\n",
       "      <th>company</th>\n",
       "      <th>flight</th>\n",
       "      <th>auth_code</th>\n",
       "      <th>line_type</th>\n",
       "      <th>origin</th>\n",
       "      <th>destination</th>\n",
       "      <th>scheduled_arr</th>\n",
       "      <th>real_arr</th>\n",
       "      <th>situation</th>\n",
       "      <th>month</th>\n",
       "    </tr>\n",
       "  </thead>\n",
       "  <tbody>\n",
       "    <tr>\n",
       "      <th>0</th>\n",
       "      <td>AZU</td>\n",
       "      <td>2497</td>\n",
       "      <td>0</td>\n",
       "      <td>N</td>\n",
       "      <td>SBMO</td>\n",
       "      <td>SBRF</td>\n",
       "      <td>2019-06-07 21:50:00</td>\n",
       "      <td>2019-06-07 21:39:00</td>\n",
       "      <td>REALIZADO</td>\n",
       "      <td>6</td>\n",
       "    </tr>\n",
       "    <tr>\n",
       "      <th>1</th>\n",
       "      <td>AZU</td>\n",
       "      <td>2493</td>\n",
       "      <td>0</td>\n",
       "      <td>N</td>\n",
       "      <td>SBMK</td>\n",
       "      <td>SBCF</td>\n",
       "      <td>2019-06-07 20:30:00</td>\n",
       "      <td>2019-06-07 20:30:00</td>\n",
       "      <td>REALIZADO</td>\n",
       "      <td>6</td>\n",
       "    </tr>\n",
       "  </tbody>\n",
       "</table>\n",
       "</div>"
      ],
      "text/plain": [
       "  company flight auth_code line_type origin destination       scheduled_arr  \\\n",
       "0     AZU   2497         0         N   SBMO        SBRF 2019-06-07 21:50:00   \n",
       "1     AZU   2493         0         N   SBMK        SBCF 2019-06-07 20:30:00   \n",
       "\n",
       "             real_arr  situation  month  \n",
       "0 2019-06-07 21:39:00  REALIZADO      6  \n",
       "1 2019-06-07 20:30:00  REALIZADO      6  "
      ]
     },
     "execution_count": 14,
     "metadata": {},
     "output_type": "execute_result"
    }
   ],
   "source": [
    "temp_df['month'] = temp_df['real_arr'].dt.month\n",
    "temp_df.head(2)"
   ]
  },
  {
   "cell_type": "markdown",
   "metadata": {
    "hidden": true
   },
   "source": [
    "### b) Hour"
   ]
  },
  {
   "cell_type": "code",
   "execution_count": 15,
   "metadata": {
    "hidden": true
   },
   "outputs": [
    {
     "data": {
      "text/html": [
       "<div>\n",
       "<style scoped>\n",
       "    .dataframe tbody tr th:only-of-type {\n",
       "        vertical-align: middle;\n",
       "    }\n",
       "\n",
       "    .dataframe tbody tr th {\n",
       "        vertical-align: top;\n",
       "    }\n",
       "\n",
       "    .dataframe thead th {\n",
       "        text-align: right;\n",
       "    }\n",
       "</style>\n",
       "<table border=\"1\" class=\"dataframe\">\n",
       "  <thead>\n",
       "    <tr style=\"text-align: right;\">\n",
       "      <th></th>\n",
       "      <th>company</th>\n",
       "      <th>flight</th>\n",
       "      <th>auth_code</th>\n",
       "      <th>line_type</th>\n",
       "      <th>origin</th>\n",
       "      <th>destination</th>\n",
       "      <th>scheduled_arr</th>\n",
       "      <th>real_arr</th>\n",
       "      <th>situation</th>\n",
       "      <th>month</th>\n",
       "      <th>hour</th>\n",
       "    </tr>\n",
       "  </thead>\n",
       "  <tbody>\n",
       "    <tr>\n",
       "      <th>0</th>\n",
       "      <td>AZU</td>\n",
       "      <td>2497</td>\n",
       "      <td>0</td>\n",
       "      <td>N</td>\n",
       "      <td>SBMO</td>\n",
       "      <td>SBRF</td>\n",
       "      <td>2019-06-07 21:50:00</td>\n",
       "      <td>2019-06-07 21:39:00</td>\n",
       "      <td>REALIZADO</td>\n",
       "      <td>6</td>\n",
       "      <td>21</td>\n",
       "    </tr>\n",
       "    <tr>\n",
       "      <th>1</th>\n",
       "      <td>AZU</td>\n",
       "      <td>2493</td>\n",
       "      <td>0</td>\n",
       "      <td>N</td>\n",
       "      <td>SBMK</td>\n",
       "      <td>SBCF</td>\n",
       "      <td>2019-06-07 20:30:00</td>\n",
       "      <td>2019-06-07 20:30:00</td>\n",
       "      <td>REALIZADO</td>\n",
       "      <td>6</td>\n",
       "      <td>20</td>\n",
       "    </tr>\n",
       "  </tbody>\n",
       "</table>\n",
       "</div>"
      ],
      "text/plain": [
       "  company flight auth_code line_type origin destination       scheduled_arr  \\\n",
       "0     AZU   2497         0         N   SBMO        SBRF 2019-06-07 21:50:00   \n",
       "1     AZU   2493         0         N   SBMK        SBCF 2019-06-07 20:30:00   \n",
       "\n",
       "             real_arr  situation  month  hour  \n",
       "0 2019-06-07 21:39:00  REALIZADO      6    21  \n",
       "1 2019-06-07 20:30:00  REALIZADO      6    20  "
      ]
     },
     "execution_count": 15,
     "metadata": {},
     "output_type": "execute_result"
    }
   ],
   "source": [
    "temp_df['hour'] = temp_df['real_arr'].dt.hour\n",
    "temp_df.head(2)"
   ]
  },
  {
   "cell_type": "markdown",
   "metadata": {
    "hidden": true
   },
   "source": [
    "### c) dt_arr_min"
   ]
  },
  {
   "cell_type": "code",
   "execution_count": 16,
   "metadata": {
    "hidden": true,
    "scrolled": false
   },
   "outputs": [
    {
     "data": {
      "text/html": [
       "<div>\n",
       "<style scoped>\n",
       "    .dataframe tbody tr th:only-of-type {\n",
       "        vertical-align: middle;\n",
       "    }\n",
       "\n",
       "    .dataframe tbody tr th {\n",
       "        vertical-align: top;\n",
       "    }\n",
       "\n",
       "    .dataframe thead th {\n",
       "        text-align: right;\n",
       "    }\n",
       "</style>\n",
       "<table border=\"1\" class=\"dataframe\">\n",
       "  <thead>\n",
       "    <tr style=\"text-align: right;\">\n",
       "      <th></th>\n",
       "      <th>company</th>\n",
       "      <th>flight</th>\n",
       "      <th>auth_code</th>\n",
       "      <th>line_type</th>\n",
       "      <th>origin</th>\n",
       "      <th>destination</th>\n",
       "      <th>scheduled_arr</th>\n",
       "      <th>real_arr</th>\n",
       "      <th>situation</th>\n",
       "      <th>month</th>\n",
       "      <th>hour</th>\n",
       "      <th>dt_arr</th>\n",
       "      <th>dt_arr_min</th>\n",
       "    </tr>\n",
       "  </thead>\n",
       "  <tbody>\n",
       "    <tr>\n",
       "      <th>0</th>\n",
       "      <td>AZU</td>\n",
       "      <td>2497</td>\n",
       "      <td>0</td>\n",
       "      <td>N</td>\n",
       "      <td>SBMO</td>\n",
       "      <td>SBRF</td>\n",
       "      <td>2019-06-07 21:50:00</td>\n",
       "      <td>2019-06-07 21:39:00</td>\n",
       "      <td>REALIZADO</td>\n",
       "      <td>6</td>\n",
       "      <td>21</td>\n",
       "      <td>0 days 00:11:00</td>\n",
       "      <td>11.0</td>\n",
       "    </tr>\n",
       "    <tr>\n",
       "      <th>1</th>\n",
       "      <td>AZU</td>\n",
       "      <td>2493</td>\n",
       "      <td>0</td>\n",
       "      <td>N</td>\n",
       "      <td>SBMK</td>\n",
       "      <td>SBCF</td>\n",
       "      <td>2019-06-07 20:30:00</td>\n",
       "      <td>2019-06-07 20:30:00</td>\n",
       "      <td>REALIZADO</td>\n",
       "      <td>6</td>\n",
       "      <td>20</td>\n",
       "      <td>0 days 00:00:00</td>\n",
       "      <td>0.0</td>\n",
       "    </tr>\n",
       "    <tr>\n",
       "      <th>2</th>\n",
       "      <td>AZU</td>\n",
       "      <td>2489</td>\n",
       "      <td>0</td>\n",
       "      <td>N</td>\n",
       "      <td>SBRF</td>\n",
       "      <td>SBGR</td>\n",
       "      <td>2019-06-07 23:35:00</td>\n",
       "      <td>2019-06-07 23:35:00</td>\n",
       "      <td>REALIZADO</td>\n",
       "      <td>6</td>\n",
       "      <td>23</td>\n",
       "      <td>0 days 00:00:00</td>\n",
       "      <td>0.0</td>\n",
       "    </tr>\n",
       "  </tbody>\n",
       "</table>\n",
       "</div>"
      ],
      "text/plain": [
       "  company flight auth_code line_type origin destination       scheduled_arr  \\\n",
       "0     AZU   2497         0         N   SBMO        SBRF 2019-06-07 21:50:00   \n",
       "1     AZU   2493         0         N   SBMK        SBCF 2019-06-07 20:30:00   \n",
       "2     AZU   2489         0         N   SBRF        SBGR 2019-06-07 23:35:00   \n",
       "\n",
       "             real_arr  situation  month  hour          dt_arr  dt_arr_min  \n",
       "0 2019-06-07 21:39:00  REALIZADO      6    21 0 days 00:11:00        11.0  \n",
       "1 2019-06-07 20:30:00  REALIZADO      6    20 0 days 00:00:00         0.0  \n",
       "2 2019-06-07 23:35:00  REALIZADO      6    23 0 days 00:00:00         0.0  "
      ]
     },
     "execution_count": 16,
     "metadata": {},
     "output_type": "execute_result"
    }
   ],
   "source": [
    "temp_df['dt_arr'] = (temp_df['scheduled_arr'] - temp_df['real_arr'])\n",
    "temp_df['dt_arr_min'] = temp_df['dt_arr'] / np.timedelta64(1, 'm')\n",
    "temp_df.head(3)"
   ]
  },
  {
   "cell_type": "markdown",
   "metadata": {
    "hidden": true
   },
   "source": [
    "### d) late"
   ]
  },
  {
   "cell_type": "code",
   "execution_count": 17,
   "metadata": {
    "hidden": true
   },
   "outputs": [],
   "source": [
    "#temp_df['late'] = temp_df['dt_arr_min'] < 0\n",
    "temp_df['late'] = temp_df['dt_arr_min'].apply(lambda x: 1 if x < 0 else 0)"
   ]
  },
  {
   "cell_type": "markdown",
   "metadata": {
    "hidden": true
   },
   "source": [
    "## 6) NaN values ?"
   ]
  },
  {
   "cell_type": "code",
   "execution_count": 18,
   "metadata": {
    "hidden": true
   },
   "outputs": [
    {
     "data": {
      "text/plain": [
       "company             0\n",
       "flight              0\n",
       "auth_code         636\n",
       "line_type           0\n",
       "origin              0\n",
       "destination         0\n",
       "scheduled_arr    2451\n",
       "real_arr            0\n",
       "situation           0\n",
       "month               0\n",
       "hour                0\n",
       "dt_arr           2451\n",
       "dt_arr_min       2451\n",
       "late                0\n",
       "dtype: int64"
      ]
     },
     "execution_count": 18,
     "metadata": {},
     "output_type": "execute_result"
    }
   ],
   "source": [
    "temp_df.isna().sum()"
   ]
  },
  {
   "cell_type": "code",
   "execution_count": 19,
   "metadata": {
    "hidden": true
   },
   "outputs": [
    {
     "data": {
      "text/html": [
       "<div>\n",
       "<style scoped>\n",
       "    .dataframe tbody tr th:only-of-type {\n",
       "        vertical-align: middle;\n",
       "    }\n",
       "\n",
       "    .dataframe tbody tr th {\n",
       "        vertical-align: top;\n",
       "    }\n",
       "\n",
       "    .dataframe thead th {\n",
       "        text-align: right;\n",
       "    }\n",
       "</style>\n",
       "<table border=\"1\" class=\"dataframe\">\n",
       "  <thead>\n",
       "    <tr style=\"text-align: right;\">\n",
       "      <th></th>\n",
       "      <th>company</th>\n",
       "      <th>flight</th>\n",
       "      <th>auth_code</th>\n",
       "      <th>line_type</th>\n",
       "      <th>origin</th>\n",
       "      <th>destination</th>\n",
       "      <th>scheduled_arr</th>\n",
       "      <th>real_arr</th>\n",
       "      <th>situation</th>\n",
       "      <th>month</th>\n",
       "      <th>hour</th>\n",
       "      <th>dt_arr</th>\n",
       "      <th>dt_arr_min</th>\n",
       "      <th>late</th>\n",
       "    </tr>\n",
       "  </thead>\n",
       "  <tbody>\n",
       "    <tr>\n",
       "      <th>539629</th>\n",
       "      <td>TAM</td>\n",
       "      <td>9007</td>\n",
       "      <td>1</td>\n",
       "      <td>N</td>\n",
       "      <td>SBGR</td>\n",
       "      <td>SBFZ</td>\n",
       "      <td>NaT</td>\n",
       "      <td>2020-04-11 13:07:00</td>\n",
       "      <td>REALIZADO</td>\n",
       "      <td>4</td>\n",
       "      <td>13</td>\n",
       "      <td>NaT</td>\n",
       "      <td>NaN</td>\n",
       "      <td>0</td>\n",
       "    </tr>\n",
       "    <tr>\n",
       "      <th>539931</th>\n",
       "      <td>TAM</td>\n",
       "      <td>9008</td>\n",
       "      <td>1</td>\n",
       "      <td>N</td>\n",
       "      <td>SBFZ</td>\n",
       "      <td>SBGR</td>\n",
       "      <td>NaT</td>\n",
       "      <td>2020-04-11 17:47:00</td>\n",
       "      <td>REALIZADO</td>\n",
       "      <td>4</td>\n",
       "      <td>17</td>\n",
       "      <td>NaT</td>\n",
       "      <td>NaN</td>\n",
       "      <td>0</td>\n",
       "    </tr>\n",
       "    <tr>\n",
       "      <th>540082</th>\n",
       "      <td>TAM</td>\n",
       "      <td>9008</td>\n",
       "      <td>1</td>\n",
       "      <td>N</td>\n",
       "      <td>SBGR</td>\n",
       "      <td>SBMO</td>\n",
       "      <td>NaT</td>\n",
       "      <td>2020-04-12 16:44:00</td>\n",
       "      <td>REALIZADO</td>\n",
       "      <td>4</td>\n",
       "      <td>16</td>\n",
       "      <td>NaT</td>\n",
       "      <td>NaN</td>\n",
       "      <td>0</td>\n",
       "    </tr>\n",
       "    <tr>\n",
       "      <th>541362</th>\n",
       "      <td>TAM</td>\n",
       "      <td>9008</td>\n",
       "      <td>1</td>\n",
       "      <td>N</td>\n",
       "      <td>SBMO</td>\n",
       "      <td>SBRF</td>\n",
       "      <td>NaT</td>\n",
       "      <td>2020-04-12 18:11:00</td>\n",
       "      <td>REALIZADO</td>\n",
       "      <td>4</td>\n",
       "      <td>18</td>\n",
       "      <td>NaT</td>\n",
       "      <td>NaN</td>\n",
       "      <td>0</td>\n",
       "    </tr>\n",
       "    <tr>\n",
       "      <th>541815</th>\n",
       "      <td>TAM</td>\n",
       "      <td>9009</td>\n",
       "      <td>1</td>\n",
       "      <td>N</td>\n",
       "      <td>SBRF</td>\n",
       "      <td>SBGR</td>\n",
       "      <td>NaT</td>\n",
       "      <td>2020-04-12 22:21:00</td>\n",
       "      <td>REALIZADO</td>\n",
       "      <td>4</td>\n",
       "      <td>22</td>\n",
       "      <td>NaT</td>\n",
       "      <td>NaN</td>\n",
       "      <td>0</td>\n",
       "    </tr>\n",
       "    <tr>\n",
       "      <th>...</th>\n",
       "      <td>...</td>\n",
       "      <td>...</td>\n",
       "      <td>...</td>\n",
       "      <td>...</td>\n",
       "      <td>...</td>\n",
       "      <td>...</td>\n",
       "      <td>...</td>\n",
       "      <td>...</td>\n",
       "      <td>...</td>\n",
       "      <td>...</td>\n",
       "      <td>...</td>\n",
       "      <td>...</td>\n",
       "      <td>...</td>\n",
       "      <td>...</td>\n",
       "    </tr>\n",
       "    <tr>\n",
       "      <th>1129564</th>\n",
       "      <td>OWT</td>\n",
       "      <td>5983</td>\n",
       "      <td>6</td>\n",
       "      <td>N</td>\n",
       "      <td>SBVT</td>\n",
       "      <td>SBJD</td>\n",
       "      <td>NaT</td>\n",
       "      <td>2021-06-07 00:00:00</td>\n",
       "      <td>REALIZADO</td>\n",
       "      <td>6</td>\n",
       "      <td>0</td>\n",
       "      <td>NaT</td>\n",
       "      <td>NaN</td>\n",
       "      <td>0</td>\n",
       "    </tr>\n",
       "    <tr>\n",
       "      <th>1129565</th>\n",
       "      <td>OWT</td>\n",
       "      <td>5984</td>\n",
       "      <td>6</td>\n",
       "      <td>N</td>\n",
       "      <td>SBJD</td>\n",
       "      <td>SBJD</td>\n",
       "      <td>NaT</td>\n",
       "      <td>2021-06-26 16:50:00</td>\n",
       "      <td>REALIZADO</td>\n",
       "      <td>6</td>\n",
       "      <td>16</td>\n",
       "      <td>NaT</td>\n",
       "      <td>NaN</td>\n",
       "      <td>0</td>\n",
       "    </tr>\n",
       "    <tr>\n",
       "      <th>1129566</th>\n",
       "      <td>OWT</td>\n",
       "      <td>5985</td>\n",
       "      <td>6</td>\n",
       "      <td>N</td>\n",
       "      <td>SBGO</td>\n",
       "      <td>SBJD</td>\n",
       "      <td>NaT</td>\n",
       "      <td>2021-06-27 03:43:00</td>\n",
       "      <td>REALIZADO</td>\n",
       "      <td>6</td>\n",
       "      <td>3</td>\n",
       "      <td>NaT</td>\n",
       "      <td>NaN</td>\n",
       "      <td>0</td>\n",
       "    </tr>\n",
       "    <tr>\n",
       "      <th>1129567</th>\n",
       "      <td>OWT</td>\n",
       "      <td>5985</td>\n",
       "      <td>6</td>\n",
       "      <td>N</td>\n",
       "      <td>SBCY</td>\n",
       "      <td>SBGO</td>\n",
       "      <td>NaT</td>\n",
       "      <td>2021-06-27 00:18:00</td>\n",
       "      <td>REALIZADO</td>\n",
       "      <td>6</td>\n",
       "      <td>0</td>\n",
       "      <td>NaT</td>\n",
       "      <td>NaN</td>\n",
       "      <td>0</td>\n",
       "    </tr>\n",
       "    <tr>\n",
       "      <th>1199479</th>\n",
       "      <td>OWT</td>\n",
       "      <td>5820</td>\n",
       "      <td>7</td>\n",
       "      <td>N</td>\n",
       "      <td>SBRF</td>\n",
       "      <td>SBSG</td>\n",
       "      <td>NaT</td>\n",
       "      <td>2020-07-27 10:48:00</td>\n",
       "      <td>REALIZADO</td>\n",
       "      <td>7</td>\n",
       "      <td>10</td>\n",
       "      <td>NaT</td>\n",
       "      <td>NaN</td>\n",
       "      <td>0</td>\n",
       "    </tr>\n",
       "  </tbody>\n",
       "</table>\n",
       "<p>2451 rows × 14 columns</p>\n",
       "</div>"
      ],
      "text/plain": [
       "        company flight auth_code line_type origin destination scheduled_arr  \\\n",
       "539629      TAM   9007         1         N   SBGR        SBFZ           NaT   \n",
       "539931      TAM   9008         1         N   SBFZ        SBGR           NaT   \n",
       "540082      TAM   9008         1         N   SBGR        SBMO           NaT   \n",
       "541362      TAM   9008         1         N   SBMO        SBRF           NaT   \n",
       "541815      TAM   9009         1         N   SBRF        SBGR           NaT   \n",
       "...         ...    ...       ...       ...    ...         ...           ...   \n",
       "1129564     OWT   5983         6         N   SBVT        SBJD           NaT   \n",
       "1129565     OWT   5984         6         N   SBJD        SBJD           NaT   \n",
       "1129566     OWT   5985         6         N   SBGO        SBJD           NaT   \n",
       "1129567     OWT   5985         6         N   SBCY        SBGO           NaT   \n",
       "1199479     OWT   5820         7         N   SBRF        SBSG           NaT   \n",
       "\n",
       "                   real_arr  situation  month  hour dt_arr  dt_arr_min  late  \n",
       "539629  2020-04-11 13:07:00  REALIZADO      4    13    NaT         NaN     0  \n",
       "539931  2020-04-11 17:47:00  REALIZADO      4    17    NaT         NaN     0  \n",
       "540082  2020-04-12 16:44:00  REALIZADO      4    16    NaT         NaN     0  \n",
       "541362  2020-04-12 18:11:00  REALIZADO      4    18    NaT         NaN     0  \n",
       "541815  2020-04-12 22:21:00  REALIZADO      4    22    NaT         NaN     0  \n",
       "...                     ...        ...    ...   ...    ...         ...   ...  \n",
       "1129564 2021-06-07 00:00:00  REALIZADO      6     0    NaT         NaN     0  \n",
       "1129565 2021-06-26 16:50:00  REALIZADO      6    16    NaT         NaN     0  \n",
       "1129566 2021-06-27 03:43:00  REALIZADO      6     3    NaT         NaN     0  \n",
       "1129567 2021-06-27 00:18:00  REALIZADO      6     0    NaT         NaN     0  \n",
       "1199479 2020-07-27 10:48:00  REALIZADO      7    10    NaT         NaN     0  \n",
       "\n",
       "[2451 rows x 14 columns]"
      ]
     },
     "execution_count": 19,
     "metadata": {},
     "output_type": "execute_result"
    }
   ],
   "source": [
    "temp_df[temp_df['scheduled_arr'].isna()]"
   ]
  },
  {
   "cell_type": "markdown",
   "metadata": {
    "hidden": true
   },
   "source": [
    "## 6-bis) drop NaN rows"
   ]
  },
  {
   "cell_type": "code",
   "execution_count": 20,
   "metadata": {
    "hidden": true
   },
   "outputs": [],
   "source": [
    "temp_df = temp_df.dropna()"
   ]
  },
  {
   "cell_type": "code",
   "execution_count": 21,
   "metadata": {
    "hidden": true,
    "scrolled": true
   },
   "outputs": [
    {
     "data": {
      "text/plain": [
       "company          0\n",
       "flight           0\n",
       "auth_code        0\n",
       "line_type        0\n",
       "origin           0\n",
       "destination      0\n",
       "scheduled_arr    0\n",
       "real_arr         0\n",
       "situation        0\n",
       "month            0\n",
       "hour             0\n",
       "dt_arr           0\n",
       "dt_arr_min       0\n",
       "late             0\n",
       "dtype: int64"
      ]
     },
     "execution_count": 21,
     "metadata": {},
     "output_type": "execute_result"
    }
   ],
   "source": [
    "temp_df.isna().sum()"
   ]
  },
  {
   "cell_type": "markdown",
   "metadata": {
    "hidden": true
   },
   "source": [
    "## 7) Set df"
   ]
  },
  {
   "cell_type": "code",
   "execution_count": 22,
   "metadata": {
    "hidden": true,
    "scrolled": true
   },
   "outputs": [],
   "source": [
    "df = temp_df.copy()"
   ]
  },
  {
   "cell_type": "markdown",
   "metadata": {},
   "source": [
    "# Keep 3 busiest airports"
   ]
  },
  {
   "cell_type": "code",
   "execution_count": 23,
   "metadata": {},
   "outputs": [
    {
     "data": {
      "text/plain": [
       "['SBGR', 'SBSP', 'SBKP', 'SBBR', 'SBCF']"
      ]
     },
     "execution_count": 23,
     "metadata": {},
     "output_type": "execute_result"
    }
   ],
   "source": [
    "d = df.groupby(['origin'])['origin'].count()\n",
    "d = d.sort_values(ascending=False)\n",
    "\n",
    "top_20 = d.iloc[0:5]\n",
    "list_top_20 = list(top_20.index)\n",
    "list_top_20"
   ]
  },
  {
   "cell_type": "code",
   "execution_count": 24,
   "metadata": {},
   "outputs": [],
   "source": [
    "df_top_20 =df[df['origin'].isin(list_top_20)]"
   ]
  },
  {
   "cell_type": "code",
   "execution_count": 25,
   "metadata": {},
   "outputs": [
    {
     "data": {
      "text/html": [
       "<div>\n",
       "<style scoped>\n",
       "    .dataframe tbody tr th:only-of-type {\n",
       "        vertical-align: middle;\n",
       "    }\n",
       "\n",
       "    .dataframe tbody tr th {\n",
       "        vertical-align: top;\n",
       "    }\n",
       "\n",
       "    .dataframe thead th {\n",
       "        text-align: right;\n",
       "    }\n",
       "</style>\n",
       "<table border=\"1\" class=\"dataframe\">\n",
       "  <thead>\n",
       "    <tr style=\"text-align: right;\">\n",
       "      <th></th>\n",
       "      <th>company</th>\n",
       "      <th>flight</th>\n",
       "      <th>auth_code</th>\n",
       "      <th>line_type</th>\n",
       "      <th>origin</th>\n",
       "      <th>destination</th>\n",
       "      <th>scheduled_arr</th>\n",
       "      <th>real_arr</th>\n",
       "      <th>situation</th>\n",
       "      <th>month</th>\n",
       "      <th>hour</th>\n",
       "      <th>dt_arr</th>\n",
       "      <th>dt_arr_min</th>\n",
       "      <th>late</th>\n",
       "    </tr>\n",
       "  </thead>\n",
       "  <tbody>\n",
       "    <tr>\n",
       "      <th>3</th>\n",
       "      <td>AZU</td>\n",
       "      <td>2488</td>\n",
       "      <td>0</td>\n",
       "      <td>N</td>\n",
       "      <td>SBGR</td>\n",
       "      <td>SBRF</td>\n",
       "      <td>2019-06-07 08:20:00</td>\n",
       "      <td>2019-06-07 08:11:00</td>\n",
       "      <td>REALIZADO</td>\n",
       "      <td>6</td>\n",
       "      <td>8</td>\n",
       "      <td>0 days 00:09:00</td>\n",
       "      <td>9.0</td>\n",
       "      <td>0</td>\n",
       "    </tr>\n",
       "    <tr>\n",
       "      <th>6</th>\n",
       "      <td>AZU</td>\n",
       "      <td>2483</td>\n",
       "      <td>0</td>\n",
       "      <td>N</td>\n",
       "      <td>SBCF</td>\n",
       "      <td>SBKP</td>\n",
       "      <td>2019-06-07 13:45:00</td>\n",
       "      <td>2019-06-07 13:40:00</td>\n",
       "      <td>REALIZADO</td>\n",
       "      <td>6</td>\n",
       "      <td>13</td>\n",
       "      <td>0 days 00:05:00</td>\n",
       "      <td>5.0</td>\n",
       "      <td>0</td>\n",
       "    </tr>\n",
       "    <tr>\n",
       "      <th>7</th>\n",
       "      <td>AZU</td>\n",
       "      <td>2482</td>\n",
       "      <td>0</td>\n",
       "      <td>N</td>\n",
       "      <td>SBKP</td>\n",
       "      <td>SBCF</td>\n",
       "      <td>2019-06-07 20:10:00</td>\n",
       "      <td>2019-06-07 20:10:00</td>\n",
       "      <td>REALIZADO</td>\n",
       "      <td>6</td>\n",
       "      <td>20</td>\n",
       "      <td>0 days 00:00:00</td>\n",
       "      <td>0.0</td>\n",
       "      <td>0</td>\n",
       "    </tr>\n",
       "    <tr>\n",
       "      <th>8</th>\n",
       "      <td>AZU</td>\n",
       "      <td>2480</td>\n",
       "      <td>0</td>\n",
       "      <td>N</td>\n",
       "      <td>SBGR</td>\n",
       "      <td>SBCY</td>\n",
       "      <td>2019-06-07 15:05:00</td>\n",
       "      <td>2019-06-07 15:03:00</td>\n",
       "      <td>REALIZADO</td>\n",
       "      <td>6</td>\n",
       "      <td>15</td>\n",
       "      <td>0 days 00:02:00</td>\n",
       "      <td>2.0</td>\n",
       "      <td>0</td>\n",
       "    </tr>\n",
       "    <tr>\n",
       "      <th>14</th>\n",
       "      <td>AZU</td>\n",
       "      <td>2476</td>\n",
       "      <td>0</td>\n",
       "      <td>N</td>\n",
       "      <td>SBSP</td>\n",
       "      <td>SBPA</td>\n",
       "      <td>2019-06-07 21:35:00</td>\n",
       "      <td>2019-06-07 21:30:00</td>\n",
       "      <td>REALIZADO</td>\n",
       "      <td>6</td>\n",
       "      <td>21</td>\n",
       "      <td>0 days 00:05:00</td>\n",
       "      <td>5.0</td>\n",
       "      <td>0</td>\n",
       "    </tr>\n",
       "  </tbody>\n",
       "</table>\n",
       "</div>"
      ],
      "text/plain": [
       "   company flight auth_code line_type origin destination       scheduled_arr  \\\n",
       "3      AZU   2488         0         N   SBGR        SBRF 2019-06-07 08:20:00   \n",
       "6      AZU   2483         0         N   SBCF        SBKP 2019-06-07 13:45:00   \n",
       "7      AZU   2482         0         N   SBKP        SBCF 2019-06-07 20:10:00   \n",
       "8      AZU   2480         0         N   SBGR        SBCY 2019-06-07 15:05:00   \n",
       "14     AZU   2476         0         N   SBSP        SBPA 2019-06-07 21:35:00   \n",
       "\n",
       "              real_arr  situation  month  hour          dt_arr  dt_arr_min  \\\n",
       "3  2019-06-07 08:11:00  REALIZADO      6     8 0 days 00:09:00         9.0   \n",
       "6  2019-06-07 13:40:00  REALIZADO      6    13 0 days 00:05:00         5.0   \n",
       "7  2019-06-07 20:10:00  REALIZADO      6    20 0 days 00:00:00         0.0   \n",
       "8  2019-06-07 15:03:00  REALIZADO      6    15 0 days 00:02:00         2.0   \n",
       "14 2019-06-07 21:30:00  REALIZADO      6    21 0 days 00:05:00         5.0   \n",
       "\n",
       "    late  \n",
       "3      0  \n",
       "6      0  \n",
       "7      0  \n",
       "8      0  \n",
       "14     0  "
      ]
     },
     "execution_count": 25,
     "metadata": {},
     "output_type": "execute_result"
    }
   ],
   "source": [
    "df_top_20.head()"
   ]
  },
  {
   "cell_type": "code",
   "execution_count": 26,
   "metadata": {},
   "outputs": [
    {
     "data": {
      "text/plain": [
       "(630721, 14)"
      ]
     },
     "execution_count": 26,
     "metadata": {},
     "output_type": "execute_result"
    }
   ],
   "source": [
    "df_top_20.shape"
   ]
  },
  {
   "cell_type": "markdown",
   "metadata": {},
   "source": [
    "# Machine Learning - Light df"
   ]
  },
  {
   "cell_type": "code",
   "execution_count": 27,
   "metadata": {},
   "outputs": [],
   "source": [
    "df_light = df_top_20.sample(n=50000)"
   ]
  },
  {
   "cell_type": "markdown",
   "metadata": {},
   "source": [
    "## Split"
   ]
  },
  {
   "cell_type": "code",
   "execution_count": 28,
   "metadata": {},
   "outputs": [],
   "source": [
    "from sklearn.model_selection import train_test_split\n",
    "\n",
    "X = df_light.drop('late', axis=1)\n",
    "y = df_light['late']\n",
    "\n",
    "X_train, X_test, y_train, y_test = train_test_split(X, y, test_size=0.2, random_state=5)"
   ]
  },
  {
   "cell_type": "markdown",
   "metadata": {},
   "source": [
    "## Preprocessing"
   ]
  },
  {
   "cell_type": "code",
   "execution_count": 29,
   "metadata": {},
   "outputs": [],
   "source": [
    "from sklearn.pipeline import make_pipeline\n",
    "from sklearn.preprocessing import StandardScaler\n",
    "from sklearn.impute import SimpleImputer\n",
    "from sklearn.compose import make_column_transformer\n",
    "from sklearn.preprocessing import OneHotEncoder\n",
    "from sklearn.impute import SimpleImputer\n",
    "\n",
    "numerical_features = ['month', 'hour']\n",
    "categorical_features = ['origin', 'destination','flight', 'company']\n",
    "numerical_pipeline = make_pipeline(SimpleImputer(), StandardScaler())\n",
    "categorical_pipeline = make_pipeline(SimpleImputer(strategy='most_frequent'), OneHotEncoder(handle_unknown = \"ignore\"))\n",
    "\n",
    "preprocessor = make_column_transformer((numerical_pipeline, numerical_features), \n",
    "                                       (categorical_pipeline, categorical_features))"
   ]
  },
  {
   "cell_type": "markdown",
   "metadata": {},
   "source": [
    "## Model selection"
   ]
  },
  {
   "cell_type": "code",
   "execution_count": 30,
   "metadata": {},
   "outputs": [],
   "source": [
    "from sklearn.model_selection import cross_validate\n",
    "\n",
    "def crossVal_model(preprocessor, estimator, X_train, y_train):\n",
    "    \n",
    "    #model\n",
    "    model = make_pipeline(preprocessor, estimator)\n",
    "    \n",
    "    #cross validation\n",
    "    scr = cross_validate(model, X_train, y_train, cv=5, scoring=['f1', 'precision', 'recall'])\n",
    "    \n",
    "    #metrics\n",
    "    print(\"reacall = {:.0%}\".format(scr['test_recall'].mean()))\n",
    "    print(\"precision = {:.0%}\".format(scr['test_precision'].mean()))\n",
    "    print(\"f1 = {:.0%}\".format(scr['test_f1'].mean()))\n",
    "    \n",
    "    return model, scr"
   ]
  },
  {
   "cell_type": "markdown",
   "metadata": {},
   "source": [
    "### Tree"
   ]
  },
  {
   "cell_type": "code",
   "execution_count": 31,
   "metadata": {},
   "outputs": [
    {
     "name": "stdout",
     "output_type": "stream",
     "text": [
      "reacall = 37%\n",
      "precision = 50%\n",
      "f1 = 42%\n"
     ]
    }
   ],
   "source": [
    "from sklearn.tree import DecisionTreeClassifier\n",
    "\n",
    "estimator = DecisionTreeClassifier()\n",
    "m_tree = crossVal_model(preprocessor, estimator, X_train, y_train)"
   ]
  },
  {
   "cell_type": "markdown",
   "metadata": {},
   "source": [
    "### Stochastic Gradient Descent"
   ]
  },
  {
   "cell_type": "code",
   "execution_count": 32,
   "metadata": {},
   "outputs": [
    {
     "name": "stdout",
     "output_type": "stream",
     "text": [
      "reacall = 12%\n",
      "precision = 54%\n",
      "f1 = 19%\n"
     ]
    }
   ],
   "source": [
    "from sklearn.linear_model import SGDClassifier\n",
    "\n",
    "estimator = SGDClassifier()\n",
    "m_sgdc = crossVal_model(preprocessor, estimator, X_train, y_train)"
   ]
  },
  {
   "cell_type": "markdown",
   "metadata": {},
   "source": [
    "### K nearest neighbors"
   ]
  },
  {
   "cell_type": "code",
   "execution_count": 33,
   "metadata": {},
   "outputs": [
    {
     "name": "stdout",
     "output_type": "stream",
     "text": [
      "reacall = 29%\n",
      "precision = 45%\n",
      "f1 = 36%\n"
     ]
    }
   ],
   "source": [
    "from sklearn.neighbors import KNeighborsClassifier\n",
    "\n",
    "estimator = KNeighborsClassifier()\n",
    "m_kn = crossVal_model(preprocessor, estimator, X_train, y_train)"
   ]
  },
  {
   "cell_type": "markdown",
   "metadata": {},
   "source": [
    "### Linear SVC"
   ]
  },
  {
   "cell_type": "code",
   "execution_count": 34,
   "metadata": {},
   "outputs": [
    {
     "name": "stdout",
     "output_type": "stream",
     "text": [
      "reacall = 20%\n",
      "precision = 48%\n",
      "f1 = 29%\n"
     ]
    }
   ],
   "source": [
    "from sklearn.svm import LinearSVC\n",
    "\n",
    "estimator = LinearSVC()\n",
    "m_svc = crossVal_model(preprocessor, estimator, X_train, y_train)"
   ]
  },
  {
   "cell_type": "markdown",
   "metadata": {},
   "source": [
    "## test"
   ]
  },
  {
   "cell_type": "code",
   "execution_count": 35,
   "metadata": {
    "scrolled": false
   },
   "outputs": [
    {
     "name": "stdout",
     "output_type": "stream",
     "text": [
      "recall = 39%\n",
      "precision = 52%\n",
      "f1 = 44%\n"
     ]
    },
    {
     "data": {
      "image/png": "[encoded data removed]",
      "text/plain": [
       "<Figure size 432x288 with 2 Axes>"
      ]
     },
     "metadata": {
      "needs_background": "light"
     },
     "output_type": "display_data"
    }
   ],
   "source": [
    "from sklearn.metrics import plot_confusion_matrix, precision_score, recall_score, f1_score\n",
    "\n",
    "model = m_tree[0]\n",
    "model.fit(X_train, y_train)\n",
    "y_pred = model.predict(X_test)\n",
    "plot_confusion_matrix(model, X_test, y_test);\n",
    "\n",
    "p = precision_score(y_test, y_pred)\n",
    "r = recall_score(y_test, y_pred)\n",
    "f1 = f1_score(y_test, y_pred)\n",
    "\n",
    "print('recall = {:.0%}'.format(r))\n",
    "print('precision = {:.0%}'.format(p))\n",
    "print('f1 = {:.0%}'.format(f1))"
   ]
  },
  {
   "cell_type": "markdown",
   "metadata": {},
   "source": [
    "# Large Scale deployment"
   ]
  },
  {
   "cell_type": "code",
   "execution_count": 36,
   "metadata": {},
   "outputs": [
    {
     "name": "stdout",
     "output_type": "stream",
     "text": [
      "recall = 49%\n",
      "precision = 73%\n",
      "f1 = 58%\n"
     ]
    },
    {
     "data": {
      "image/png": "[encoded data removed]",
      "text/plain": [
       "<Figure size 432x288 with 2 Axes>"
      ]
     },
     "metadata": {
      "needs_background": "light"
     },
     "output_type": "display_data"
    }
   ],
   "source": [
    "X = df_top_20.drop('late', axis=1)\n",
    "y = df_top_20['late']\n",
    "\n",
    "X_train, X_test, y_train, y_test = train_test_split(X, y, test_size=0.2, random_state=5)\n",
    "\n",
    "model.fit(X_train, y_train)\n",
    "y_pred = model.predict(X_test)\n",
    "\n",
    "plot_confusion_matrix(model, X_test, y_test);\n",
    "p = precision_score(y_test, y_pred)\n",
    "r = recall_score(y_test, y_pred)\n",
    "f1 = f1_score(y_test, y_pred)\n",
    "\n",
    "print('recall = {:.0%}'.format(r))\n",
    "print('precision = {:.0%}'.format(p))\n",
    "print('f1 = {:.0%}'.format(f1))"
   ]
  },
  {
   "cell_type": "code",
   "execution_count": 37,
   "metadata": {},
   "outputs": [
    {
     "data": {
      "text/plain": [
       "array([0, 0, 1, 0, 1, 0, 0, 0, 0, 0, 1, 0, 0, 0, 0, 0, 0, 0, 0, 1])"
      ]
     },
     "execution_count": 37,
     "metadata": {},
     "output_type": "execute_result"
    }
   ],
   "source": [
    "y_pred[100:120]"
   ]
  },
  {
   "cell_type": "code",
   "execution_count": 38,
   "metadata": {},
   "outputs": [
    {
     "data": {
      "text/plain": [
       "array([0, 0, 1, 0, 1, 0, 1, 0, 0, 0, 0, 0, 0, 1, 0, 0, 0, 0, 0, 1])"
      ]
     },
     "execution_count": 38,
     "metadata": {},
     "output_type": "execute_result"
    }
   ],
   "source": [
    "np.array(y_test[100:120])"
   ]
  },
  {
   "cell_type": "code",
   "execution_count": null,
   "metadata": {},
   "outputs": [],
   "source": []
  }
 ],
 "metadata": {
  "kernelspec": {
   "display_name": "Python 3",
   "language": "python",
   "name": "python3"
  },
  "language_info": {
   "codemirror_mode": {
    "name": "ipython",
    "version": 3
   },
   "file_extension": ".py",
   "mimetype": "text/x-python",
   "name": "python",
   "nbconvert_exporter": "python",
   "pygments_lexer": "ipython3",
   "version": "3.8.5"
  }
 },
 "nbformat": 4,
 "nbformat_minor": 4
}
